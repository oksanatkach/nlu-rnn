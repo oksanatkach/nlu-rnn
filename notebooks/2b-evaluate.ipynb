{
 "cells": [
  {
   "cell_type": "code",
   "id": "initial_id",
   "metadata": {
    "collapsed": true,
    "ExecuteTime": {
     "end_time": "2025-02-08T21:58:51.678018Z",
     "start_time": "2025-02-08T21:58:51.673382Z"
    }
   },
   "source": [
    "import numpy as np\n",
    "import pandas as pd"
   ],
   "outputs": [],
   "execution_count": 26
  },
  {
   "metadata": {
    "ExecuteTime": {
     "end_time": "2025-02-08T22:00:26.475334Z",
     "start_time": "2025-02-08T22:00:26.471603Z"
    }
   },
   "cell_type": "code",
   "source": [
    "import sys\n",
    "sys.path.append(\"../code/\")"
   ],
   "id": "7733aba02d4d63a6",
   "outputs": [],
   "execution_count": 29
  },
  {
   "metadata": {
    "ExecuteTime": {
     "end_time": "2025-02-08T22:08:54.649832Z",
     "start_time": "2025-02-08T22:08:54.646551Z"
    }
   },
   "cell_type": "code",
   "source": [
    "from runner import Runner\n",
    "from rnn import RNN\n",
    "from utils import load_lm_dataset, docs_to_indices, invert_dict, seqs_to_lmXY"
   ],
   "id": "194bc04aee188c2e",
   "outputs": [],
   "execution_count": 40
  },
  {
   "metadata": {
    "ExecuteTime": {
     "end_time": "2025-02-08T22:08:55.297462Z",
     "start_time": "2025-02-08T22:08:55.288672Z"
    }
   },
   "cell_type": "code",
   "source": [
    "model_U = np.load('../results/rnn.U.npy')\n",
    "model_V = np.load('../results/rnn.V.npy')\n",
    "model_W = np.load('../results/rnn.W.npy')"
   ],
   "id": "6447ed63bd0a70f4",
   "outputs": [],
   "execution_count": 41
  },
  {
   "metadata": {
    "ExecuteTime": {
     "end_time": "2025-02-08T22:08:55.677304Z",
     "start_time": "2025-02-08T22:08:55.670500Z"
    }
   },
   "cell_type": "code",
   "source": [
    "final_model = RNN(2000, 25, 2000)\n",
    "final_model.U = model_U\n",
    "final_model.V = model_V\n",
    "final_model.W = model_W"
   ],
   "id": "20ca186e970b1157",
   "outputs": [],
   "execution_count": 42
  },
  {
   "metadata": {
    "ExecuteTime": {
     "end_time": "2025-02-08T22:08:56.345792Z",
     "start_time": "2025-02-08T22:08:56.341660Z"
    }
   },
   "cell_type": "code",
   "source": "runner = Runner(final_model)",
   "id": "7c08169de56fb3ae",
   "outputs": [],
   "execution_count": 43
  },
  {
   "metadata": {
    "ExecuteTime": {
     "end_time": "2025-02-08T22:08:56.834284Z",
     "start_time": "2025-02-08T22:08:56.818013Z"
    }
   },
   "cell_type": "code",
   "source": [
    "vocab = pd.read_table(\"../data/vocab.wiki.txt\", header=None, sep=\"\\s+\", index_col=0, names=['count', 'freq'], )\n",
    "num_to_word = dict(enumerate(vocab.index[:2000]))\n",
    "word_to_num = invert_dict(num_to_word)"
   ],
   "id": "3f8f524611d88e5c",
   "outputs": [],
   "execution_count": 44
  },
  {
   "metadata": {
    "ExecuteTime": {
     "end_time": "2025-02-08T22:09:09.131223Z",
     "start_time": "2025-02-08T22:09:09.044554Z"
    }
   },
   "cell_type": "code",
   "source": [
    "docs = load_lm_dataset('../data/wiki-test.txt')\n",
    "S_test = docs_to_indices(docs, word_to_num, 1, 1)\n",
    "X_test, D_test = seqs_to_lmXY(S_test)"
   ],
   "id": "b23aa149c5754a4c",
   "outputs": [],
   "execution_count": 46
  },
  {
   "metadata": {
    "ExecuteTime": {
     "end_time": "2025-02-08T22:14:29.039238Z",
     "start_time": "2025-02-08T22:13:31.172041Z"
    }
   },
   "cell_type": "code",
   "source": [
    "mean_loss = runner.compute_mean_loss(X_test, D_test)\n",
    "perplexity = np.exp(mean_loss)"
   ],
   "id": "4b32e271d19319ba",
   "outputs": [],
   "execution_count": 53
  },
  {
   "metadata": {
    "ExecuteTime": {
     "end_time": "2025-02-08T22:14:29.051021Z",
     "start_time": "2025-02-08T22:14:29.047474Z"
    }
   },
   "cell_type": "code",
   "source": "print(f\"Mean loss = {mean_loss:.3f}, Perplexity = {perplexity:.3f}\")",
   "id": "199a7b4ce5b14f9c",
   "outputs": [
    {
     "name": "stdout",
     "output_type": "stream",
     "text": [
      "Mean loss = 4.463, Perplexity = 86.785\n"
     ]
    }
   ],
   "execution_count": 54
  }
 ],
 "metadata": {
  "kernelspec": {
   "display_name": "Python 3",
   "language": "python",
   "name": "python3"
  },
  "language_info": {
   "codemirror_mode": {
    "name": "ipython",
    "version": 2
   },
   "file_extension": ".py",
   "mimetype": "text/x-python",
   "name": "python",
   "nbconvert_exporter": "python",
   "pygments_lexer": "ipython2",
   "version": "2.7.6"
  }
 },
 "nbformat": 4,
 "nbformat_minor": 5
}
